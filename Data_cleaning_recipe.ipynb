{
  "nbformat": 4,
  "nbformat_minor": 0,
  "metadata": {
    "colab": {
      "name": "Data-cleaning-recipe.ipynb",
      "provenance": [],
      "toc_visible": true,
      "authorship_tag": "ABX9TyOJ67VSQPRYgJ0AJUmIWkMA",
      "include_colab_link": true
    },
    "kernelspec": {
      "name": "python3",
      "display_name": "Python 3"
    }
  },
  "cells": [
    {
      "cell_type": "markdown",
      "metadata": {
        "id": "view-in-github",
        "colab_type": "text"
      },
      "source": [
        "<a href=\"https://colab.research.google.com/github/jasantosm/news_scraper/blob/master/Data_cleaning_recipe.ipynb\" target=\"_parent\"><img src=\"https://colab.research.google.com/assets/colab-badge.svg\" alt=\"Open In Colab\"/></a>"
      ]
    },
    {
      "cell_type": "markdown",
      "metadata": {
        "id": "kVJBgWxmmBlt",
        "colab_type": "text"
      },
      "source": [
        "#Read Data"
      ]
    },
    {
      "cell_type": "code",
      "metadata": {
        "id": "42igoYAfTIWk",
        "colab_type": "code",
        "colab": {}
      },
      "source": [
        "import pandas as pd"
      ],
      "execution_count": 0,
      "outputs": []
    },
    {
      "cell_type": "code",
      "metadata": {
        "id": "RTFL1H1wmDvL",
        "colab_type": "code",
        "outputId": "971fcb90-cc83-4dec-ac4d-4d3b27c38d08",
        "colab": {
          "base_uri": "https://localhost:8080/",
          "height": 513
        }
      },
      "source": [
        "el_universal = pd.read_csv('/content/clean_eluniversal_2020_04_05_articles.csv')\n",
        "\n",
        "el_universal.head()"
      ],
      "execution_count": 18,
      "outputs": [
        {
          "output_type": "execute_result",
          "data": {
            "text/html": [
              "<div>\n",
              "<style scoped>\n",
              "    .dataframe tbody tr th:only-of-type {\n",
              "        vertical-align: middle;\n",
              "    }\n",
              "\n",
              "    .dataframe tbody tr th {\n",
              "        vertical-align: top;\n",
              "    }\n",
              "\n",
              "    .dataframe thead th {\n",
              "        text-align: right;\n",
              "    }\n",
              "</style>\n",
              "<table border=\"1\" class=\"dataframe\">\n",
              "  <thead>\n",
              "    <tr style=\"text-align: right;\">\n",
              "      <th></th>\n",
              "      <th>uid</th>\n",
              "      <th>body</th>\n",
              "      <th>title</th>\n",
              "      <th>url</th>\n",
              "      <th>news_site_uid</th>\n",
              "      <th>host</th>\n",
              "      <th>n_tokens_title</th>\n",
              "      <th>n_tokens_body</th>\n",
              "    </tr>\n",
              "  </thead>\n",
              "  <tbody>\n",
              "    <tr>\n",
              "      <th>0</th>\n",
              "      <td>69f7915cdb319f4dc60aecc778e28106</td>\n",
              "      <td>Al cierre de diciembre pasado, hace casi 100...</td>\n",
              "      <td>La (verdadera) hora de AMLO</td>\n",
              "      <td>https://www.eluniversal.com.mx/opinion/roberto...</td>\n",
              "      <td>eluniversal</td>\n",
              "      <td>www.eluniversal.com.mx</td>\n",
              "      <td>3</td>\n",
              "      <td>351</td>\n",
              "    </tr>\n",
              "    <tr>\n",
              "      <th>1</th>\n",
              "      <td>5cadddd572cf0374bbb67a5819bed5d5</td>\n",
              "      <td>El gobernador de Nueva York, Andrew Cuomo, a ...</td>\n",
              "      <td>coronavirus que significa la ley matilda en nu...</td>\n",
              "      <td>https://www.viveusa.mx/noticias/coronavirus-qu...</td>\n",
              "      <td>eluniversal</td>\n",
              "      <td>www.viveusa.mx</td>\n",
              "      <td>6</td>\n",
              "      <td>202</td>\n",
              "    </tr>\n",
              "    <tr>\n",
              "      <th>2</th>\n",
              "      <td>647ea4ebb9daf0dab913017bb9321121</td>\n",
              "      <td>Después de varias gestiones con autoridades d...</td>\n",
              "      <td>Podrán mexicanos desembarcar de crucero que ha...</td>\n",
              "      <td>http://www.eluniversal.com.mx/nacion/podran-me...</td>\n",
              "      <td>eluniversal</td>\n",
              "      <td>www.eluniversal.com.mx</td>\n",
              "      <td>10</td>\n",
              "      <td>110</td>\n",
              "    </tr>\n",
              "    <tr>\n",
              "      <th>3</th>\n",
              "      <td>0cb80d55564f64b8270733bf688708e2</td>\n",
              "      <td>El reacomodo de fuerzas que supone la entrad...</td>\n",
              "      <td>Liderazgo perdido</td>\n",
              "      <td>https://www.eluniversal.com.mx/opinion/editori...</td>\n",
              "      <td>eluniversal</td>\n",
              "      <td>www.eluniversal.com.mx</td>\n",
              "      <td>2</td>\n",
              "      <td>207</td>\n",
              "    </tr>\n",
              "    <tr>\n",
              "      <th>4</th>\n",
              "      <td>4aba980bf64de2d94347b1a725df91bd</td>\n",
              "      <td>Todas las plazas comerciales y cerca de 80% d...</td>\n",
              "      <td>Casi 80% de los comercios permanecen cerrados</td>\n",
              "      <td>https://www.eluniversalqueretaro.mx/portada/ca...</td>\n",
              "      <td>eluniversal</td>\n",
              "      <td>www.eluniversalqueretaro.mx</td>\n",
              "      <td>4</td>\n",
              "      <td>239</td>\n",
              "    </tr>\n",
              "  </tbody>\n",
              "</table>\n",
              "</div>"
            ],
            "text/plain": [
              "                                uid  ... n_tokens_body\n",
              "0  69f7915cdb319f4dc60aecc778e28106  ...           351\n",
              "1  5cadddd572cf0374bbb67a5819bed5d5  ...           202\n",
              "2  647ea4ebb9daf0dab913017bb9321121  ...           110\n",
              "3  0cb80d55564f64b8270733bf688708e2  ...           207\n",
              "4  4aba980bf64de2d94347b1a725df91bd  ...           239\n",
              "\n",
              "[5 rows x 8 columns]"
            ]
          },
          "metadata": {
            "tags": []
          },
          "execution_count": 18
        }
      ]
    },
    {
      "cell_type": "markdown",
      "metadata": {
        "id": "0PGqqW7pwMaH",
        "colab_type": "text"
      },
      "source": [
        "# Data wrangling"
      ]
    },
    {
      "cell_type": "code",
      "metadata": {
        "id": "ReGwgI7GwPbc",
        "colab_type": "code",
        "outputId": "70267751-875b-41e7-e8c4-f4641ded1d4c",
        "colab": {
          "base_uri": "https://localhost:8080/",
          "height": 932
        }
      },
      "source": [
        "# 1. Añadir el newspaper_uid al DataFrame\n",
        "\n",
        "el_universal['newspaper_uid'] = 'eluniversal'\n",
        "el_universal"
      ],
      "execution_count": 19,
      "outputs": [
        {
          "output_type": "execute_result",
          "data": {
            "text/html": [
              "<div>\n",
              "<style scoped>\n",
              "    .dataframe tbody tr th:only-of-type {\n",
              "        vertical-align: middle;\n",
              "    }\n",
              "\n",
              "    .dataframe tbody tr th {\n",
              "        vertical-align: top;\n",
              "    }\n",
              "\n",
              "    .dataframe thead th {\n",
              "        text-align: right;\n",
              "    }\n",
              "</style>\n",
              "<table border=\"1\" class=\"dataframe\">\n",
              "  <thead>\n",
              "    <tr style=\"text-align: right;\">\n",
              "      <th></th>\n",
              "      <th>uid</th>\n",
              "      <th>body</th>\n",
              "      <th>title</th>\n",
              "      <th>url</th>\n",
              "      <th>news_site_uid</th>\n",
              "      <th>host</th>\n",
              "      <th>n_tokens_title</th>\n",
              "      <th>n_tokens_body</th>\n",
              "      <th>newspaper_uid</th>\n",
              "    </tr>\n",
              "  </thead>\n",
              "  <tbody>\n",
              "    <tr>\n",
              "      <th>0</th>\n",
              "      <td>69f7915cdb319f4dc60aecc778e28106</td>\n",
              "      <td>Al cierre de diciembre pasado, hace casi 100...</td>\n",
              "      <td>La (verdadera) hora de AMLO</td>\n",
              "      <td>https://www.eluniversal.com.mx/opinion/roberto...</td>\n",
              "      <td>eluniversal</td>\n",
              "      <td>www.eluniversal.com.mx</td>\n",
              "      <td>3</td>\n",
              "      <td>351</td>\n",
              "      <td>eluniversal</td>\n",
              "    </tr>\n",
              "    <tr>\n",
              "      <th>1</th>\n",
              "      <td>5cadddd572cf0374bbb67a5819bed5d5</td>\n",
              "      <td>El gobernador de Nueva York, Andrew Cuomo, a ...</td>\n",
              "      <td>coronavirus que significa la ley matilda en nu...</td>\n",
              "      <td>https://www.viveusa.mx/noticias/coronavirus-qu...</td>\n",
              "      <td>eluniversal</td>\n",
              "      <td>www.viveusa.mx</td>\n",
              "      <td>6</td>\n",
              "      <td>202</td>\n",
              "      <td>eluniversal</td>\n",
              "    </tr>\n",
              "    <tr>\n",
              "      <th>2</th>\n",
              "      <td>647ea4ebb9daf0dab913017bb9321121</td>\n",
              "      <td>Después de varias gestiones con autoridades d...</td>\n",
              "      <td>Podrán mexicanos desembarcar de crucero que ha...</td>\n",
              "      <td>http://www.eluniversal.com.mx/nacion/podran-me...</td>\n",
              "      <td>eluniversal</td>\n",
              "      <td>www.eluniversal.com.mx</td>\n",
              "      <td>10</td>\n",
              "      <td>110</td>\n",
              "      <td>eluniversal</td>\n",
              "    </tr>\n",
              "    <tr>\n",
              "      <th>3</th>\n",
              "      <td>0cb80d55564f64b8270733bf688708e2</td>\n",
              "      <td>El reacomodo de fuerzas que supone la entrad...</td>\n",
              "      <td>Liderazgo perdido</td>\n",
              "      <td>https://www.eluniversal.com.mx/opinion/editori...</td>\n",
              "      <td>eluniversal</td>\n",
              "      <td>www.eluniversal.com.mx</td>\n",
              "      <td>2</td>\n",
              "      <td>207</td>\n",
              "      <td>eluniversal</td>\n",
              "    </tr>\n",
              "    <tr>\n",
              "      <th>4</th>\n",
              "      <td>4aba980bf64de2d94347b1a725df91bd</td>\n",
              "      <td>Todas las plazas comerciales y cerca de 80% d...</td>\n",
              "      <td>Casi 80% de los comercios permanecen cerrados</td>\n",
              "      <td>https://www.eluniversalqueretaro.mx/portada/ca...</td>\n",
              "      <td>eluniversal</td>\n",
              "      <td>www.eluniversalqueretaro.mx</td>\n",
              "      <td>4</td>\n",
              "      <td>239</td>\n",
              "      <td>eluniversal</td>\n",
              "    </tr>\n",
              "    <tr>\n",
              "      <th>...</th>\n",
              "      <td>...</td>\n",
              "      <td>...</td>\n",
              "      <td>...</td>\n",
              "      <td>...</td>\n",
              "      <td>...</td>\n",
              "      <td>...</td>\n",
              "      <td>...</td>\n",
              "      <td>...</td>\n",
              "      <td>...</td>\n",
              "    </tr>\n",
              "    <tr>\n",
              "      <th>121</th>\n",
              "      <td>d78d38ff59e9b02faf446d245bd50727</td>\n",
              "      <td>googletag.cmd.push(function() {       ...</td>\n",
              "      <td>Visita museos virtuales en el mundo: Museo de ...</td>\n",
              "      <td>http://www.unionpuebla.mx/articulo/2020/04/01/...</td>\n",
              "      <td>eluniversal</td>\n",
              "      <td>www.unionpuebla.mx</td>\n",
              "      <td>7</td>\n",
              "      <td>295</td>\n",
              "      <td>eluniversal</td>\n",
              "    </tr>\n",
              "    <tr>\n",
              "      <th>122</th>\n",
              "      <td>04fab2861b816ec8b03ecd3ee56b8507</td>\n",
              "      <td>Un policía preventivo resultó herido durante u...</td>\n",
              "      <td>asaltante de automovilistas termina muerto tra...</td>\n",
              "      <td>https://www.elgrafico.mx/la-roja/asaltante-de-...</td>\n",
              "      <td>eluniversal</td>\n",
              "      <td>www.elgrafico.mx</td>\n",
              "      <td>9</td>\n",
              "      <td>79</td>\n",
              "      <td>eluniversal</td>\n",
              "    </tr>\n",
              "    <tr>\n",
              "      <th>123</th>\n",
              "      <td>52adf651f36c8097f61f7f7447414d86</td>\n",
              "      <td>A un año de su nacimiento, el Cobro Digital ...</td>\n",
              "      <td>CoDi, un aliado para Susana Distancia</td>\n",
              "      <td>http://www.eluniversal.com.mx/cartera/codi-un-...</td>\n",
              "      <td>eluniversal</td>\n",
              "      <td>www.eluniversal.com.mx</td>\n",
              "      <td>4</td>\n",
              "      <td>405</td>\n",
              "      <td>eluniversal</td>\n",
              "    </tr>\n",
              "    <tr>\n",
              "      <th>124</th>\n",
              "      <td>13621446953806ad23a85c384daf30e6</td>\n",
              "      <td>Durante la contigencia por el Covid-19 es pos...</td>\n",
              "      <td>Una forma de activar la mente desde casa</td>\n",
              "      <td>https://www.eluniversalqueretaro.mx/portada/un...</td>\n",
              "      <td>eluniversal</td>\n",
              "      <td>www.eluniversalqueretaro.mx</td>\n",
              "      <td>4</td>\n",
              "      <td>299</td>\n",
              "      <td>eluniversal</td>\n",
              "    </tr>\n",
              "    <tr>\n",
              "      <th>125</th>\n",
              "      <td>d73767119a3af98d5c879e046f1ad339</td>\n",
              "      <td>0 % PULSO SOCIAL0 Cuando Iron Man (2008) se e...</td>\n",
              "      <td>10 datos que no sabias de la relacion entre ir...</td>\n",
              "      <td>https://de10.com.mx/top-10/10-datos-que-no-sab...</td>\n",
              "      <td>eluniversal</td>\n",
              "      <td>de10.com.mx</td>\n",
              "      <td>8</td>\n",
              "      <td>355</td>\n",
              "      <td>eluniversal</td>\n",
              "    </tr>\n",
              "  </tbody>\n",
              "</table>\n",
              "<p>126 rows × 9 columns</p>\n",
              "</div>"
            ],
            "text/plain": [
              "                                  uid  ... newspaper_uid\n",
              "0    69f7915cdb319f4dc60aecc778e28106  ...   eluniversal\n",
              "1    5cadddd572cf0374bbb67a5819bed5d5  ...   eluniversal\n",
              "2    647ea4ebb9daf0dab913017bb9321121  ...   eluniversal\n",
              "3    0cb80d55564f64b8270733bf688708e2  ...   eluniversal\n",
              "4    4aba980bf64de2d94347b1a725df91bd  ...   eluniversal\n",
              "..                                ...  ...           ...\n",
              "121  d78d38ff59e9b02faf446d245bd50727  ...   eluniversal\n",
              "122  04fab2861b816ec8b03ecd3ee56b8507  ...   eluniversal\n",
              "123  52adf651f36c8097f61f7f7447414d86  ...   eluniversal\n",
              "124  13621446953806ad23a85c384daf30e6  ...   eluniversal\n",
              "125  d73767119a3af98d5c879e046f1ad339  ...   eluniversal\n",
              "\n",
              "[126 rows x 9 columns]"
            ]
          },
          "metadata": {
            "tags": []
          },
          "execution_count": 19
        }
      ]
    },
    {
      "cell_type": "code",
      "metadata": {
        "id": "u-Rttfz7wnUY",
        "colab_type": "code",
        "outputId": "dacf4141-b977-4a24-9be3-9c05b4ba7561",
        "colab": {
          "base_uri": "https://localhost:8080/",
          "height": 932
        }
      },
      "source": [
        "# 2. Obtener el host\n",
        "from urllib.parse import urlparse\n",
        "\n",
        "el_universal['host'] = el_universal['url'].apply(lambda url: urlparse(url).netloc)\n",
        "\n",
        "el_universal"
      ],
      "execution_count": 20,
      "outputs": [
        {
          "output_type": "execute_result",
          "data": {
            "text/html": [
              "<div>\n",
              "<style scoped>\n",
              "    .dataframe tbody tr th:only-of-type {\n",
              "        vertical-align: middle;\n",
              "    }\n",
              "\n",
              "    .dataframe tbody tr th {\n",
              "        vertical-align: top;\n",
              "    }\n",
              "\n",
              "    .dataframe thead th {\n",
              "        text-align: right;\n",
              "    }\n",
              "</style>\n",
              "<table border=\"1\" class=\"dataframe\">\n",
              "  <thead>\n",
              "    <tr style=\"text-align: right;\">\n",
              "      <th></th>\n",
              "      <th>uid</th>\n",
              "      <th>body</th>\n",
              "      <th>title</th>\n",
              "      <th>url</th>\n",
              "      <th>news_site_uid</th>\n",
              "      <th>host</th>\n",
              "      <th>n_tokens_title</th>\n",
              "      <th>n_tokens_body</th>\n",
              "      <th>newspaper_uid</th>\n",
              "    </tr>\n",
              "  </thead>\n",
              "  <tbody>\n",
              "    <tr>\n",
              "      <th>0</th>\n",
              "      <td>69f7915cdb319f4dc60aecc778e28106</td>\n",
              "      <td>Al cierre de diciembre pasado, hace casi 100...</td>\n",
              "      <td>La (verdadera) hora de AMLO</td>\n",
              "      <td>https://www.eluniversal.com.mx/opinion/roberto...</td>\n",
              "      <td>eluniversal</td>\n",
              "      <td>www.eluniversal.com.mx</td>\n",
              "      <td>3</td>\n",
              "      <td>351</td>\n",
              "      <td>eluniversal</td>\n",
              "    </tr>\n",
              "    <tr>\n",
              "      <th>1</th>\n",
              "      <td>5cadddd572cf0374bbb67a5819bed5d5</td>\n",
              "      <td>El gobernador de Nueva York, Andrew Cuomo, a ...</td>\n",
              "      <td>coronavirus que significa la ley matilda en nu...</td>\n",
              "      <td>https://www.viveusa.mx/noticias/coronavirus-qu...</td>\n",
              "      <td>eluniversal</td>\n",
              "      <td>www.viveusa.mx</td>\n",
              "      <td>6</td>\n",
              "      <td>202</td>\n",
              "      <td>eluniversal</td>\n",
              "    </tr>\n",
              "    <tr>\n",
              "      <th>2</th>\n",
              "      <td>647ea4ebb9daf0dab913017bb9321121</td>\n",
              "      <td>Después de varias gestiones con autoridades d...</td>\n",
              "      <td>Podrán mexicanos desembarcar de crucero que ha...</td>\n",
              "      <td>http://www.eluniversal.com.mx/nacion/podran-me...</td>\n",
              "      <td>eluniversal</td>\n",
              "      <td>www.eluniversal.com.mx</td>\n",
              "      <td>10</td>\n",
              "      <td>110</td>\n",
              "      <td>eluniversal</td>\n",
              "    </tr>\n",
              "    <tr>\n",
              "      <th>3</th>\n",
              "      <td>0cb80d55564f64b8270733bf688708e2</td>\n",
              "      <td>El reacomodo de fuerzas que supone la entrad...</td>\n",
              "      <td>Liderazgo perdido</td>\n",
              "      <td>https://www.eluniversal.com.mx/opinion/editori...</td>\n",
              "      <td>eluniversal</td>\n",
              "      <td>www.eluniversal.com.mx</td>\n",
              "      <td>2</td>\n",
              "      <td>207</td>\n",
              "      <td>eluniversal</td>\n",
              "    </tr>\n",
              "    <tr>\n",
              "      <th>4</th>\n",
              "      <td>4aba980bf64de2d94347b1a725df91bd</td>\n",
              "      <td>Todas las plazas comerciales y cerca de 80% d...</td>\n",
              "      <td>Casi 80% de los comercios permanecen cerrados</td>\n",
              "      <td>https://www.eluniversalqueretaro.mx/portada/ca...</td>\n",
              "      <td>eluniversal</td>\n",
              "      <td>www.eluniversalqueretaro.mx</td>\n",
              "      <td>4</td>\n",
              "      <td>239</td>\n",
              "      <td>eluniversal</td>\n",
              "    </tr>\n",
              "    <tr>\n",
              "      <th>...</th>\n",
              "      <td>...</td>\n",
              "      <td>...</td>\n",
              "      <td>...</td>\n",
              "      <td>...</td>\n",
              "      <td>...</td>\n",
              "      <td>...</td>\n",
              "      <td>...</td>\n",
              "      <td>...</td>\n",
              "      <td>...</td>\n",
              "    </tr>\n",
              "    <tr>\n",
              "      <th>121</th>\n",
              "      <td>d78d38ff59e9b02faf446d245bd50727</td>\n",
              "      <td>googletag.cmd.push(function() {       ...</td>\n",
              "      <td>Visita museos virtuales en el mundo: Museo de ...</td>\n",
              "      <td>http://www.unionpuebla.mx/articulo/2020/04/01/...</td>\n",
              "      <td>eluniversal</td>\n",
              "      <td>www.unionpuebla.mx</td>\n",
              "      <td>7</td>\n",
              "      <td>295</td>\n",
              "      <td>eluniversal</td>\n",
              "    </tr>\n",
              "    <tr>\n",
              "      <th>122</th>\n",
              "      <td>04fab2861b816ec8b03ecd3ee56b8507</td>\n",
              "      <td>Un policía preventivo resultó herido durante u...</td>\n",
              "      <td>asaltante de automovilistas termina muerto tra...</td>\n",
              "      <td>https://www.elgrafico.mx/la-roja/asaltante-de-...</td>\n",
              "      <td>eluniversal</td>\n",
              "      <td>www.elgrafico.mx</td>\n",
              "      <td>9</td>\n",
              "      <td>79</td>\n",
              "      <td>eluniversal</td>\n",
              "    </tr>\n",
              "    <tr>\n",
              "      <th>123</th>\n",
              "      <td>52adf651f36c8097f61f7f7447414d86</td>\n",
              "      <td>A un año de su nacimiento, el Cobro Digital ...</td>\n",
              "      <td>CoDi, un aliado para Susana Distancia</td>\n",
              "      <td>http://www.eluniversal.com.mx/cartera/codi-un-...</td>\n",
              "      <td>eluniversal</td>\n",
              "      <td>www.eluniversal.com.mx</td>\n",
              "      <td>4</td>\n",
              "      <td>405</td>\n",
              "      <td>eluniversal</td>\n",
              "    </tr>\n",
              "    <tr>\n",
              "      <th>124</th>\n",
              "      <td>13621446953806ad23a85c384daf30e6</td>\n",
              "      <td>Durante la contigencia por el Covid-19 es pos...</td>\n",
              "      <td>Una forma de activar la mente desde casa</td>\n",
              "      <td>https://www.eluniversalqueretaro.mx/portada/un...</td>\n",
              "      <td>eluniversal</td>\n",
              "      <td>www.eluniversalqueretaro.mx</td>\n",
              "      <td>4</td>\n",
              "      <td>299</td>\n",
              "      <td>eluniversal</td>\n",
              "    </tr>\n",
              "    <tr>\n",
              "      <th>125</th>\n",
              "      <td>d73767119a3af98d5c879e046f1ad339</td>\n",
              "      <td>0 % PULSO SOCIAL0 Cuando Iron Man (2008) se e...</td>\n",
              "      <td>10 datos que no sabias de la relacion entre ir...</td>\n",
              "      <td>https://de10.com.mx/top-10/10-datos-que-no-sab...</td>\n",
              "      <td>eluniversal</td>\n",
              "      <td>de10.com.mx</td>\n",
              "      <td>8</td>\n",
              "      <td>355</td>\n",
              "      <td>eluniversal</td>\n",
              "    </tr>\n",
              "  </tbody>\n",
              "</table>\n",
              "<p>126 rows × 9 columns</p>\n",
              "</div>"
            ],
            "text/plain": [
              "                                  uid  ... newspaper_uid\n",
              "0    69f7915cdb319f4dc60aecc778e28106  ...   eluniversal\n",
              "1    5cadddd572cf0374bbb67a5819bed5d5  ...   eluniversal\n",
              "2    647ea4ebb9daf0dab913017bb9321121  ...   eluniversal\n",
              "3    0cb80d55564f64b8270733bf688708e2  ...   eluniversal\n",
              "4    4aba980bf64de2d94347b1a725df91bd  ...   eluniversal\n",
              "..                                ...  ...           ...\n",
              "121  d78d38ff59e9b02faf446d245bd50727  ...   eluniversal\n",
              "122  04fab2861b816ec8b03ecd3ee56b8507  ...   eluniversal\n",
              "123  52adf651f36c8097f61f7f7447414d86  ...   eluniversal\n",
              "124  13621446953806ad23a85c384daf30e6  ...   eluniversal\n",
              "125  d73767119a3af98d5c879e046f1ad339  ...   eluniversal\n",
              "\n",
              "[126 rows x 9 columns]"
            ]
          },
          "metadata": {
            "tags": []
          },
          "execution_count": 20
        }
      ]
    },
    {
      "cell_type": "code",
      "metadata": {
        "id": "-3oUZuw4xPrs",
        "colab_type": "code",
        "outputId": "dd647545-2d0d-466e-e8ab-5ace70fdfd7e",
        "colab": {
          "base_uri": "https://localhost:8080/",
          "height": 289
        }
      },
      "source": [
        "el_universal['host'].value_counts()"
      ],
      "execution_count": 21,
      "outputs": [
        {
          "output_type": "execute_result",
          "data": {
            "text/plain": [
              "www.eluniversal.com.mx         72\n",
              "www.viveusa.mx                 12\n",
              "www.elgrafico.mx                6\n",
              "de10.com.mx                     6\n",
              "www.eluniversalqueretaro.mx     5\n",
              "sanluis.eluniversal.com.mx      4\n",
              "oaxaca.eluniversal.com.mx       4\n",
              "www.unionedomex.mx              3\n",
              "www.unionjalisco.mx             3\n",
              "www.unionguanajuato.mx          3\n",
              "www.unionpuebla.mx              3\n",
              "www.unionyucatan.mx             2\n",
              "www.unioncdmx.mx                1\n",
              "eluniversal.com.mx              1\n",
              "www.clubeluniversal.mx          1\n",
              "Name: host, dtype: int64"
            ]
          },
          "metadata": {
            "tags": []
          },
          "execution_count": 21
        }
      ]
    },
    {
      "cell_type": "markdown",
      "metadata": {
        "id": "dj6B7_edLnuF",
        "colab_type": "text"
      },
      "source": [
        "# Missing Data"
      ]
    },
    {
      "cell_type": "code",
      "metadata": {
        "id": "LkKJOt1KLqtE",
        "colab_type": "code",
        "outputId": "e4b444a2-bc0b-4c97-e93a-b86c54f94b33",
        "colab": {
          "base_uri": "https://localhost:8080/",
          "height": 0
        }
      },
      "source": [
        "# 3. Rellenar datos faltantes\n",
        "\n",
        "missing_titles_mask = el_universal['title'].isna()\n",
        "\n",
        "missing_titles = (el_universal[missing_titles_mask]['url']\n",
        "                    .str.extract(r'(?P<missing_titles>[^/]+)$')\n",
        "                    .applymap(lambda title: title.split('-'))\n",
        "                    .applymap(lambda title_word_list: ' '.join(title_word_list))\n",
        "                  )\n",
        "\n",
        "missing_titles"
      ],
      "execution_count": 22,
      "outputs": [
        {
          "output_type": "execute_result",
          "data": {
            "text/html": [
              "<div>\n",
              "<style scoped>\n",
              "    .dataframe tbody tr th:only-of-type {\n",
              "        vertical-align: middle;\n",
              "    }\n",
              "\n",
              "    .dataframe tbody tr th {\n",
              "        vertical-align: top;\n",
              "    }\n",
              "\n",
              "    .dataframe thead th {\n",
              "        text-align: right;\n",
              "    }\n",
              "</style>\n",
              "<table border=\"1\" class=\"dataframe\">\n",
              "  <thead>\n",
              "    <tr style=\"text-align: right;\">\n",
              "      <th></th>\n",
              "      <th>missing_titles</th>\n",
              "    </tr>\n",
              "  </thead>\n",
              "  <tbody>\n",
              "  </tbody>\n",
              "</table>\n",
              "</div>"
            ],
            "text/plain": [
              "Empty DataFrame\n",
              "Columns: [missing_titles]\n",
              "Index: []"
            ]
          },
          "metadata": {
            "tags": []
          },
          "execution_count": 22
        }
      ]
    },
    {
      "cell_type": "code",
      "metadata": {
        "id": "Uqn-XEHLUaVH",
        "colab_type": "code",
        "colab": {}
      },
      "source": [
        "el_universal.loc[missing_titles_mask, 'title'] = missing_titles.loc[:,'missing_titles']"
      ],
      "execution_count": 0,
      "outputs": []
    },
    {
      "cell_type": "markdown",
      "metadata": {
        "id": "rkHla35NzbAK",
        "colab_type": "text"
      },
      "source": [
        "# Additional Cleanup"
      ]
    },
    {
      "cell_type": "code",
      "metadata": {
        "id": "i3L3EoUTzlsy",
        "colab_type": "code",
        "outputId": "24d3439e-eb14-4db4-a99f-f282980ca539",
        "colab": {
          "base_uri": "https://localhost:8080/",
          "height": 0
        }
      },
      "source": [
        "import hashlib\n",
        "uids = (el_universal\n",
        "          .apply(lambda row: hashlib.md5(bytes(row['url'].encode())), axis=1)\n",
        "          .apply(lambda hash_object: hash_object.hexdigest())\n",
        "      )\n",
        "el_universal['uid'] = uids\n",
        "el_universal.set_index('uid', inplace=True)\n",
        "\n",
        "el_universal"
      ],
      "execution_count": 24,
      "outputs": [
        {
          "output_type": "execute_result",
          "data": {
            "text/html": [
              "<div>\n",
              "<style scoped>\n",
              "    .dataframe tbody tr th:only-of-type {\n",
              "        vertical-align: middle;\n",
              "    }\n",
              "\n",
              "    .dataframe tbody tr th {\n",
              "        vertical-align: top;\n",
              "    }\n",
              "\n",
              "    .dataframe thead th {\n",
              "        text-align: right;\n",
              "    }\n",
              "</style>\n",
              "<table border=\"1\" class=\"dataframe\">\n",
              "  <thead>\n",
              "    <tr style=\"text-align: right;\">\n",
              "      <th></th>\n",
              "      <th>body</th>\n",
              "      <th>title</th>\n",
              "      <th>url</th>\n",
              "      <th>news_site_uid</th>\n",
              "      <th>host</th>\n",
              "      <th>n_tokens_title</th>\n",
              "      <th>n_tokens_body</th>\n",
              "      <th>newspaper_uid</th>\n",
              "    </tr>\n",
              "    <tr>\n",
              "      <th>uid</th>\n",
              "      <th></th>\n",
              "      <th></th>\n",
              "      <th></th>\n",
              "      <th></th>\n",
              "      <th></th>\n",
              "      <th></th>\n",
              "      <th></th>\n",
              "      <th></th>\n",
              "    </tr>\n",
              "  </thead>\n",
              "  <tbody>\n",
              "    <tr>\n",
              "      <th>69f7915cdb319f4dc60aecc778e28106</th>\n",
              "      <td>Al cierre de diciembre pasado, hace casi 100...</td>\n",
              "      <td>La (verdadera) hora de AMLO</td>\n",
              "      <td>https://www.eluniversal.com.mx/opinion/roberto...</td>\n",
              "      <td>eluniversal</td>\n",
              "      <td>www.eluniversal.com.mx</td>\n",
              "      <td>3</td>\n",
              "      <td>351</td>\n",
              "      <td>eluniversal</td>\n",
              "    </tr>\n",
              "    <tr>\n",
              "      <th>5cadddd572cf0374bbb67a5819bed5d5</th>\n",
              "      <td>El gobernador de Nueva York, Andrew Cuomo, a ...</td>\n",
              "      <td>coronavirus que significa la ley matilda en nu...</td>\n",
              "      <td>https://www.viveusa.mx/noticias/coronavirus-qu...</td>\n",
              "      <td>eluniversal</td>\n",
              "      <td>www.viveusa.mx</td>\n",
              "      <td>6</td>\n",
              "      <td>202</td>\n",
              "      <td>eluniversal</td>\n",
              "    </tr>\n",
              "    <tr>\n",
              "      <th>647ea4ebb9daf0dab913017bb9321121</th>\n",
              "      <td>Después de varias gestiones con autoridades d...</td>\n",
              "      <td>Podrán mexicanos desembarcar de crucero que ha...</td>\n",
              "      <td>http://www.eluniversal.com.mx/nacion/podran-me...</td>\n",
              "      <td>eluniversal</td>\n",
              "      <td>www.eluniversal.com.mx</td>\n",
              "      <td>10</td>\n",
              "      <td>110</td>\n",
              "      <td>eluniversal</td>\n",
              "    </tr>\n",
              "    <tr>\n",
              "      <th>0cb80d55564f64b8270733bf688708e2</th>\n",
              "      <td>El reacomodo de fuerzas que supone la entrad...</td>\n",
              "      <td>Liderazgo perdido</td>\n",
              "      <td>https://www.eluniversal.com.mx/opinion/editori...</td>\n",
              "      <td>eluniversal</td>\n",
              "      <td>www.eluniversal.com.mx</td>\n",
              "      <td>2</td>\n",
              "      <td>207</td>\n",
              "      <td>eluniversal</td>\n",
              "    </tr>\n",
              "    <tr>\n",
              "      <th>4aba980bf64de2d94347b1a725df91bd</th>\n",
              "      <td>Todas las plazas comerciales y cerca de 80% d...</td>\n",
              "      <td>Casi 80% de los comercios permanecen cerrados</td>\n",
              "      <td>https://www.eluniversalqueretaro.mx/portada/ca...</td>\n",
              "      <td>eluniversal</td>\n",
              "      <td>www.eluniversalqueretaro.mx</td>\n",
              "      <td>4</td>\n",
              "      <td>239</td>\n",
              "      <td>eluniversal</td>\n",
              "    </tr>\n",
              "    <tr>\n",
              "      <th>...</th>\n",
              "      <td>...</td>\n",
              "      <td>...</td>\n",
              "      <td>...</td>\n",
              "      <td>...</td>\n",
              "      <td>...</td>\n",
              "      <td>...</td>\n",
              "      <td>...</td>\n",
              "      <td>...</td>\n",
              "    </tr>\n",
              "    <tr>\n",
              "      <th>d78d38ff59e9b02faf446d245bd50727</th>\n",
              "      <td>googletag.cmd.push(function() {       ...</td>\n",
              "      <td>Visita museos virtuales en el mundo: Museo de ...</td>\n",
              "      <td>http://www.unionpuebla.mx/articulo/2020/04/01/...</td>\n",
              "      <td>eluniversal</td>\n",
              "      <td>www.unionpuebla.mx</td>\n",
              "      <td>7</td>\n",
              "      <td>295</td>\n",
              "      <td>eluniversal</td>\n",
              "    </tr>\n",
              "    <tr>\n",
              "      <th>04fab2861b816ec8b03ecd3ee56b8507</th>\n",
              "      <td>Un policía preventivo resultó herido durante u...</td>\n",
              "      <td>asaltante de automovilistas termina muerto tra...</td>\n",
              "      <td>https://www.elgrafico.mx/la-roja/asaltante-de-...</td>\n",
              "      <td>eluniversal</td>\n",
              "      <td>www.elgrafico.mx</td>\n",
              "      <td>9</td>\n",
              "      <td>79</td>\n",
              "      <td>eluniversal</td>\n",
              "    </tr>\n",
              "    <tr>\n",
              "      <th>52adf651f36c8097f61f7f7447414d86</th>\n",
              "      <td>A un año de su nacimiento, el Cobro Digital ...</td>\n",
              "      <td>CoDi, un aliado para Susana Distancia</td>\n",
              "      <td>http://www.eluniversal.com.mx/cartera/codi-un-...</td>\n",
              "      <td>eluniversal</td>\n",
              "      <td>www.eluniversal.com.mx</td>\n",
              "      <td>4</td>\n",
              "      <td>405</td>\n",
              "      <td>eluniversal</td>\n",
              "    </tr>\n",
              "    <tr>\n",
              "      <th>13621446953806ad23a85c384daf30e6</th>\n",
              "      <td>Durante la contigencia por el Covid-19 es pos...</td>\n",
              "      <td>Una forma de activar la mente desde casa</td>\n",
              "      <td>https://www.eluniversalqueretaro.mx/portada/un...</td>\n",
              "      <td>eluniversal</td>\n",
              "      <td>www.eluniversalqueretaro.mx</td>\n",
              "      <td>4</td>\n",
              "      <td>299</td>\n",
              "      <td>eluniversal</td>\n",
              "    </tr>\n",
              "    <tr>\n",
              "      <th>d73767119a3af98d5c879e046f1ad339</th>\n",
              "      <td>0 % PULSO SOCIAL0 Cuando Iron Man (2008) se e...</td>\n",
              "      <td>10 datos que no sabias de la relacion entre ir...</td>\n",
              "      <td>https://de10.com.mx/top-10/10-datos-que-no-sab...</td>\n",
              "      <td>eluniversal</td>\n",
              "      <td>de10.com.mx</td>\n",
              "      <td>8</td>\n",
              "      <td>355</td>\n",
              "      <td>eluniversal</td>\n",
              "    </tr>\n",
              "  </tbody>\n",
              "</table>\n",
              "<p>126 rows × 8 columns</p>\n",
              "</div>"
            ],
            "text/plain": [
              "                                                                               body  ... newspaper_uid\n",
              "uid                                                                                  ...              \n",
              "69f7915cdb319f4dc60aecc778e28106    Al cierre de diciembre pasado, hace casi 100...  ...   eluniversal\n",
              "5cadddd572cf0374bbb67a5819bed5d5   El gobernador de Nueva York, Andrew Cuomo, a ...  ...   eluniversal\n",
              "647ea4ebb9daf0dab913017bb9321121   Después de varias gestiones con autoridades d...  ...   eluniversal\n",
              "0cb80d55564f64b8270733bf688708e2    El reacomodo de fuerzas que supone la entrad...  ...   eluniversal\n",
              "4aba980bf64de2d94347b1a725df91bd   Todas las plazas comerciales y cerca de 80% d...  ...   eluniversal\n",
              "...                                                                             ...  ...           ...\n",
              "d78d38ff59e9b02faf446d245bd50727          googletag.cmd.push(function() {       ...  ...   eluniversal\n",
              "04fab2861b816ec8b03ecd3ee56b8507  Un policía preventivo resultó herido durante u...  ...   eluniversal\n",
              "52adf651f36c8097f61f7f7447414d86    A un año de su nacimiento, el Cobro Digital ...  ...   eluniversal\n",
              "13621446953806ad23a85c384daf30e6   Durante la contigencia por el Covid-19 es pos...  ...   eluniversal\n",
              "d73767119a3af98d5c879e046f1ad339   0 % PULSO SOCIAL0 Cuando Iron Man (2008) se e...  ...   eluniversal\n",
              "\n",
              "[126 rows x 8 columns]"
            ]
          },
          "metadata": {
            "tags": []
          },
          "execution_count": 24
        }
      ]
    },
    {
      "cell_type": "code",
      "metadata": {
        "id": "MkBipK4I1ESb",
        "colab_type": "code",
        "outputId": "2622dbb4-a176-4fd8-cfb8-651944a332c3",
        "colab": {
          "base_uri": "https://localhost:8080/",
          "height": 0
        }
      },
      "source": [
        "#limpiar caracteres especiales\n",
        "\n",
        "\n",
        "\n",
        "stripped_body = (el_universal.apply(lambda row: row['body'], axis = 1)\n",
        "                             .apply(lambda body: list(body))\n",
        "                             .apply(lambda letters: list(map(lambda letter: letter.replace('\\n', ''), letters)))\n",
        "                             .apply(lambda letters: ''.join(letters))\n",
        "                )\n",
        "\n",
        "stripped_body"
      ],
      "execution_count": 25,
      "outputs": [
        {
          "output_type": "execute_result",
          "data": {
            "text/plain": [
              "uid\n",
              "69f7915cdb319f4dc60aecc778e28106      Al cierre de diciembre pasado, hace casi 100...\n",
              "5cadddd572cf0374bbb67a5819bed5d5     El gobernador de Nueva York, Andrew Cuomo, a ...\n",
              "647ea4ebb9daf0dab913017bb9321121     Después de varias gestiones con autoridades d...\n",
              "0cb80d55564f64b8270733bf688708e2      El reacomodo de fuerzas que supone la entrad...\n",
              "4aba980bf64de2d94347b1a725df91bd     Todas las plazas comerciales y cerca de 80% d...\n",
              "                                                          ...                        \n",
              "d78d38ff59e9b02faf446d245bd50727            googletag.cmd.push(function() {       ...\n",
              "04fab2861b816ec8b03ecd3ee56b8507    Un policía preventivo resultó herido durante u...\n",
              "52adf651f36c8097f61f7f7447414d86      A un año de su nacimiento, el Cobro Digital ...\n",
              "13621446953806ad23a85c384daf30e6     Durante la contigencia por el Covid-19 es pos...\n",
              "d73767119a3af98d5c879e046f1ad339     0 % PULSO SOCIAL0 Cuando Iron Man (2008) se e...\n",
              "Length: 126, dtype: object"
            ]
          },
          "metadata": {
            "tags": []
          },
          "execution_count": 25
        }
      ]
    },
    {
      "cell_type": "markdown",
      "metadata": {
        "id": "OPADjSr_pT_4",
        "colab_type": "text"
      },
      "source": [
        "# Data Enrichment"
      ]
    },
    {
      "cell_type": "code",
      "metadata": {
        "id": "vyNbjW4ppWar",
        "colab_type": "code",
        "outputId": "fcdefff4-683e-44d1-db19-3e994134e65e",
        "colab": {
          "base_uri": "https://localhost:8080/",
          "height": 0
        }
      },
      "source": [
        "import nltk\n",
        "from nltk.corpus import stopwords\n",
        "\n",
        "# nltk ayuda a trabajar con lenguaje natural\n",
        "\n",
        "nltk.download('punkt')\n",
        "nltk.download('stopwords')\n",
        "\n",
        "stop_words = set(stopwords.words('spanish'))\n",
        "\n",
        "def tokenize_column(df, column_name):\n",
        "  return (df\n",
        "            .dropna()\n",
        "            .apply(lambda row: nltk.word_tokenize(row[column_name]), axis = 1)\n",
        "            .apply(lambda tokens: list(filter(lambda token: token.isalpha(), tokens)))\n",
        "            .apply(lambda tokens: list(map(lambda token: token.lower(), tokens)))\n",
        "            .apply(lambda word_list: list(filter(lambda word: word not in stop_words, word_list)))      \n",
        "            .apply(lambda valid_word_list: len (valid_word_list))\n",
        "          )\n",
        "\n",
        "el_universal['n_tokens_title'] = tokenize_column(el_universal, 'title')\n",
        "el_universal['n_tokens_body'] = tokenize_column(el_universal, 'body')\n",
        "el_universal"
      ],
      "execution_count": 26,
      "outputs": [
        {
          "output_type": "stream",
          "text": [
            "[nltk_data] Downloading package punkt to /root/nltk_data...\n",
            "[nltk_data]   Package punkt is already up-to-date!\n",
            "[nltk_data] Downloading package stopwords to /root/nltk_data...\n",
            "[nltk_data]   Package stopwords is already up-to-date!\n"
          ],
          "name": "stdout"
        },
        {
          "output_type": "execute_result",
          "data": {
            "text/html": [
              "<div>\n",
              "<style scoped>\n",
              "    .dataframe tbody tr th:only-of-type {\n",
              "        vertical-align: middle;\n",
              "    }\n",
              "\n",
              "    .dataframe tbody tr th {\n",
              "        vertical-align: top;\n",
              "    }\n",
              "\n",
              "    .dataframe thead th {\n",
              "        text-align: right;\n",
              "    }\n",
              "</style>\n",
              "<table border=\"1\" class=\"dataframe\">\n",
              "  <thead>\n",
              "    <tr style=\"text-align: right;\">\n",
              "      <th></th>\n",
              "      <th>body</th>\n",
              "      <th>title</th>\n",
              "      <th>url</th>\n",
              "      <th>news_site_uid</th>\n",
              "      <th>host</th>\n",
              "      <th>n_tokens_title</th>\n",
              "      <th>n_tokens_body</th>\n",
              "      <th>newspaper_uid</th>\n",
              "    </tr>\n",
              "    <tr>\n",
              "      <th>uid</th>\n",
              "      <th></th>\n",
              "      <th></th>\n",
              "      <th></th>\n",
              "      <th></th>\n",
              "      <th></th>\n",
              "      <th></th>\n",
              "      <th></th>\n",
              "      <th></th>\n",
              "    </tr>\n",
              "  </thead>\n",
              "  <tbody>\n",
              "    <tr>\n",
              "      <th>69f7915cdb319f4dc60aecc778e28106</th>\n",
              "      <td>Al cierre de diciembre pasado, hace casi 100...</td>\n",
              "      <td>La (verdadera) hora de AMLO</td>\n",
              "      <td>https://www.eluniversal.com.mx/opinion/roberto...</td>\n",
              "      <td>eluniversal</td>\n",
              "      <td>www.eluniversal.com.mx</td>\n",
              "      <td>3</td>\n",
              "      <td>351</td>\n",
              "      <td>eluniversal</td>\n",
              "    </tr>\n",
              "    <tr>\n",
              "      <th>5cadddd572cf0374bbb67a5819bed5d5</th>\n",
              "      <td>El gobernador de Nueva York, Andrew Cuomo, a ...</td>\n",
              "      <td>coronavirus que significa la ley matilda en nu...</td>\n",
              "      <td>https://www.viveusa.mx/noticias/coronavirus-qu...</td>\n",
              "      <td>eluniversal</td>\n",
              "      <td>www.viveusa.mx</td>\n",
              "      <td>6</td>\n",
              "      <td>202</td>\n",
              "      <td>eluniversal</td>\n",
              "    </tr>\n",
              "    <tr>\n",
              "      <th>647ea4ebb9daf0dab913017bb9321121</th>\n",
              "      <td>Después de varias gestiones con autoridades d...</td>\n",
              "      <td>Podrán mexicanos desembarcar de crucero que ha...</td>\n",
              "      <td>http://www.eluniversal.com.mx/nacion/podran-me...</td>\n",
              "      <td>eluniversal</td>\n",
              "      <td>www.eluniversal.com.mx</td>\n",
              "      <td>10</td>\n",
              "      <td>110</td>\n",
              "      <td>eluniversal</td>\n",
              "    </tr>\n",
              "    <tr>\n",
              "      <th>0cb80d55564f64b8270733bf688708e2</th>\n",
              "      <td>El reacomodo de fuerzas que supone la entrad...</td>\n",
              "      <td>Liderazgo perdido</td>\n",
              "      <td>https://www.eluniversal.com.mx/opinion/editori...</td>\n",
              "      <td>eluniversal</td>\n",
              "      <td>www.eluniversal.com.mx</td>\n",
              "      <td>2</td>\n",
              "      <td>207</td>\n",
              "      <td>eluniversal</td>\n",
              "    </tr>\n",
              "    <tr>\n",
              "      <th>4aba980bf64de2d94347b1a725df91bd</th>\n",
              "      <td>Todas las plazas comerciales y cerca de 80% d...</td>\n",
              "      <td>Casi 80% de los comercios permanecen cerrados</td>\n",
              "      <td>https://www.eluniversalqueretaro.mx/portada/ca...</td>\n",
              "      <td>eluniversal</td>\n",
              "      <td>www.eluniversalqueretaro.mx</td>\n",
              "      <td>4</td>\n",
              "      <td>239</td>\n",
              "      <td>eluniversal</td>\n",
              "    </tr>\n",
              "    <tr>\n",
              "      <th>...</th>\n",
              "      <td>...</td>\n",
              "      <td>...</td>\n",
              "      <td>...</td>\n",
              "      <td>...</td>\n",
              "      <td>...</td>\n",
              "      <td>...</td>\n",
              "      <td>...</td>\n",
              "      <td>...</td>\n",
              "    </tr>\n",
              "    <tr>\n",
              "      <th>d78d38ff59e9b02faf446d245bd50727</th>\n",
              "      <td>googletag.cmd.push(function() {       ...</td>\n",
              "      <td>Visita museos virtuales en el mundo: Museo de ...</td>\n",
              "      <td>http://www.unionpuebla.mx/articulo/2020/04/01/...</td>\n",
              "      <td>eluniversal</td>\n",
              "      <td>www.unionpuebla.mx</td>\n",
              "      <td>7</td>\n",
              "      <td>295</td>\n",
              "      <td>eluniversal</td>\n",
              "    </tr>\n",
              "    <tr>\n",
              "      <th>04fab2861b816ec8b03ecd3ee56b8507</th>\n",
              "      <td>Un policía preventivo resultó herido durante u...</td>\n",
              "      <td>asaltante de automovilistas termina muerto tra...</td>\n",
              "      <td>https://www.elgrafico.mx/la-roja/asaltante-de-...</td>\n",
              "      <td>eluniversal</td>\n",
              "      <td>www.elgrafico.mx</td>\n",
              "      <td>9</td>\n",
              "      <td>79</td>\n",
              "      <td>eluniversal</td>\n",
              "    </tr>\n",
              "    <tr>\n",
              "      <th>52adf651f36c8097f61f7f7447414d86</th>\n",
              "      <td>A un año de su nacimiento, el Cobro Digital ...</td>\n",
              "      <td>CoDi, un aliado para Susana Distancia</td>\n",
              "      <td>http://www.eluniversal.com.mx/cartera/codi-un-...</td>\n",
              "      <td>eluniversal</td>\n",
              "      <td>www.eluniversal.com.mx</td>\n",
              "      <td>4</td>\n",
              "      <td>405</td>\n",
              "      <td>eluniversal</td>\n",
              "    </tr>\n",
              "    <tr>\n",
              "      <th>13621446953806ad23a85c384daf30e6</th>\n",
              "      <td>Durante la contigencia por el Covid-19 es pos...</td>\n",
              "      <td>Una forma de activar la mente desde casa</td>\n",
              "      <td>https://www.eluniversalqueretaro.mx/portada/un...</td>\n",
              "      <td>eluniversal</td>\n",
              "      <td>www.eluniversalqueretaro.mx</td>\n",
              "      <td>4</td>\n",
              "      <td>299</td>\n",
              "      <td>eluniversal</td>\n",
              "    </tr>\n",
              "    <tr>\n",
              "      <th>d73767119a3af98d5c879e046f1ad339</th>\n",
              "      <td>0 % PULSO SOCIAL0 Cuando Iron Man (2008) se e...</td>\n",
              "      <td>10 datos que no sabias de la relacion entre ir...</td>\n",
              "      <td>https://de10.com.mx/top-10/10-datos-que-no-sab...</td>\n",
              "      <td>eluniversal</td>\n",
              "      <td>de10.com.mx</td>\n",
              "      <td>8</td>\n",
              "      <td>355</td>\n",
              "      <td>eluniversal</td>\n",
              "    </tr>\n",
              "  </tbody>\n",
              "</table>\n",
              "<p>126 rows × 8 columns</p>\n",
              "</div>"
            ],
            "text/plain": [
              "                                                                               body  ... newspaper_uid\n",
              "uid                                                                                  ...              \n",
              "69f7915cdb319f4dc60aecc778e28106    Al cierre de diciembre pasado, hace casi 100...  ...   eluniversal\n",
              "5cadddd572cf0374bbb67a5819bed5d5   El gobernador de Nueva York, Andrew Cuomo, a ...  ...   eluniversal\n",
              "647ea4ebb9daf0dab913017bb9321121   Después de varias gestiones con autoridades d...  ...   eluniversal\n",
              "0cb80d55564f64b8270733bf688708e2    El reacomodo de fuerzas que supone la entrad...  ...   eluniversal\n",
              "4aba980bf64de2d94347b1a725df91bd   Todas las plazas comerciales y cerca de 80% d...  ...   eluniversal\n",
              "...                                                                             ...  ...           ...\n",
              "d78d38ff59e9b02faf446d245bd50727          googletag.cmd.push(function() {       ...  ...   eluniversal\n",
              "04fab2861b816ec8b03ecd3ee56b8507  Un policía preventivo resultó herido durante u...  ...   eluniversal\n",
              "52adf651f36c8097f61f7f7447414d86    A un año de su nacimiento, el Cobro Digital ...  ...   eluniversal\n",
              "13621446953806ad23a85c384daf30e6   Durante la contigencia por el Covid-19 es pos...  ...   eluniversal\n",
              "d73767119a3af98d5c879e046f1ad339   0 % PULSO SOCIAL0 Cuando Iron Man (2008) se e...  ...   eluniversal\n",
              "\n",
              "[126 rows x 8 columns]"
            ]
          },
          "metadata": {
            "tags": []
          },
          "execution_count": 26
        }
      ]
    },
    {
      "cell_type": "markdown",
      "metadata": {
        "id": "tMlxTSybU_GA",
        "colab_type": "text"
      },
      "source": [
        "# Duplicate values"
      ]
    },
    {
      "cell_type": "code",
      "metadata": {
        "id": "hc9lejdqVBbO",
        "colab_type": "code",
        "outputId": "8051acf3-f5d9-4802-a71d-607f53f6a38a",
        "colab": {
          "base_uri": "https://localhost:8080/",
          "height": 0
        }
      },
      "source": [
        "el_universal['title'].value_counts()"
      ],
      "execution_count": 27,
      "outputs": [
        {
          "output_type": "execute_result",
          "data": {
            "text/plain": [
              "Así enfrentan los ikoots a la emergencia sanitaria                                             1\n",
              "Las mujeres hierberas de ayer y hoy                                                            1\n",
              "UnADM: Carreras y maestrías en línea en la Universidad de la SEP                               1\n",
              "Wrestlemania 36, así se vivió el primer día; Undertaker extiende su racha en la gran fiesta    1\n",
              "la estricta y dificil vida de enrique alvarez felix                                            1\n",
              "                                                                                              ..\n",
              "Se resisten a cumplir aislamiento por coronavirus en CDMX y Edomex                             1\n",
              "Policía Cibernética alerta por cuenta de correo apócrifa de la titular de Salud en SLP         1\n",
              "los 5 tipos de profesionistas mas solicitados en canada                                        1\n",
              "Crisis sanitaria genera dilema sobre salarios                                                  1\n",
              "consuelo duval le hace escena de celos eugenio derbez frente alessandra rosaldo                1\n",
              "Name: title, Length: 126, dtype: int64"
            ]
          },
          "metadata": {
            "tags": []
          },
          "execution_count": 27
        }
      ]
    },
    {
      "cell_type": "code",
      "metadata": {
        "id": "hgrbxT8RVmOc",
        "colab_type": "code",
        "colab": {}
      },
      "source": [
        "# Elminar duplicados\n",
        "el_universal.drop_duplicates(subset=['title'], keep = 'first', inplace=True)"
      ],
      "execution_count": 0,
      "outputs": []
    },
    {
      "cell_type": "markdown",
      "metadata": {
        "id": "HHYb8N6-WIe_",
        "colab_type": "text"
      },
      "source": [
        "# Tabla Final"
      ]
    },
    {
      "cell_type": "code",
      "metadata": {
        "id": "10OnkrbtWJ0F",
        "colab_type": "code",
        "outputId": "bc16a7b2-c70c-43d1-f882-7b55363e36d0",
        "colab": {
          "base_uri": "https://localhost:8080/",
          "height": 0
        }
      },
      "source": [
        "\n",
        "el_universal"
      ],
      "execution_count": 29,
      "outputs": [
        {
          "output_type": "execute_result",
          "data": {
            "text/html": [
              "<div>\n",
              "<style scoped>\n",
              "    .dataframe tbody tr th:only-of-type {\n",
              "        vertical-align: middle;\n",
              "    }\n",
              "\n",
              "    .dataframe tbody tr th {\n",
              "        vertical-align: top;\n",
              "    }\n",
              "\n",
              "    .dataframe thead th {\n",
              "        text-align: right;\n",
              "    }\n",
              "</style>\n",
              "<table border=\"1\" class=\"dataframe\">\n",
              "  <thead>\n",
              "    <tr style=\"text-align: right;\">\n",
              "      <th></th>\n",
              "      <th>body</th>\n",
              "      <th>title</th>\n",
              "      <th>url</th>\n",
              "      <th>news_site_uid</th>\n",
              "      <th>host</th>\n",
              "      <th>n_tokens_title</th>\n",
              "      <th>n_tokens_body</th>\n",
              "      <th>newspaper_uid</th>\n",
              "    </tr>\n",
              "    <tr>\n",
              "      <th>uid</th>\n",
              "      <th></th>\n",
              "      <th></th>\n",
              "      <th></th>\n",
              "      <th></th>\n",
              "      <th></th>\n",
              "      <th></th>\n",
              "      <th></th>\n",
              "      <th></th>\n",
              "    </tr>\n",
              "  </thead>\n",
              "  <tbody>\n",
              "    <tr>\n",
              "      <th>69f7915cdb319f4dc60aecc778e28106</th>\n",
              "      <td>Al cierre de diciembre pasado, hace casi 100...</td>\n",
              "      <td>La (verdadera) hora de AMLO</td>\n",
              "      <td>https://www.eluniversal.com.mx/opinion/roberto...</td>\n",
              "      <td>eluniversal</td>\n",
              "      <td>www.eluniversal.com.mx</td>\n",
              "      <td>3</td>\n",
              "      <td>351</td>\n",
              "      <td>eluniversal</td>\n",
              "    </tr>\n",
              "    <tr>\n",
              "      <th>5cadddd572cf0374bbb67a5819bed5d5</th>\n",
              "      <td>El gobernador de Nueva York, Andrew Cuomo, a ...</td>\n",
              "      <td>coronavirus que significa la ley matilda en nu...</td>\n",
              "      <td>https://www.viveusa.mx/noticias/coronavirus-qu...</td>\n",
              "      <td>eluniversal</td>\n",
              "      <td>www.viveusa.mx</td>\n",
              "      <td>6</td>\n",
              "      <td>202</td>\n",
              "      <td>eluniversal</td>\n",
              "    </tr>\n",
              "    <tr>\n",
              "      <th>647ea4ebb9daf0dab913017bb9321121</th>\n",
              "      <td>Después de varias gestiones con autoridades d...</td>\n",
              "      <td>Podrán mexicanos desembarcar de crucero que ha...</td>\n",
              "      <td>http://www.eluniversal.com.mx/nacion/podran-me...</td>\n",
              "      <td>eluniversal</td>\n",
              "      <td>www.eluniversal.com.mx</td>\n",
              "      <td>10</td>\n",
              "      <td>110</td>\n",
              "      <td>eluniversal</td>\n",
              "    </tr>\n",
              "    <tr>\n",
              "      <th>0cb80d55564f64b8270733bf688708e2</th>\n",
              "      <td>El reacomodo de fuerzas que supone la entrad...</td>\n",
              "      <td>Liderazgo perdido</td>\n",
              "      <td>https://www.eluniversal.com.mx/opinion/editori...</td>\n",
              "      <td>eluniversal</td>\n",
              "      <td>www.eluniversal.com.mx</td>\n",
              "      <td>2</td>\n",
              "      <td>207</td>\n",
              "      <td>eluniversal</td>\n",
              "    </tr>\n",
              "    <tr>\n",
              "      <th>4aba980bf64de2d94347b1a725df91bd</th>\n",
              "      <td>Todas las plazas comerciales y cerca de 80% d...</td>\n",
              "      <td>Casi 80% de los comercios permanecen cerrados</td>\n",
              "      <td>https://www.eluniversalqueretaro.mx/portada/ca...</td>\n",
              "      <td>eluniversal</td>\n",
              "      <td>www.eluniversalqueretaro.mx</td>\n",
              "      <td>4</td>\n",
              "      <td>239</td>\n",
              "      <td>eluniversal</td>\n",
              "    </tr>\n",
              "    <tr>\n",
              "      <th>...</th>\n",
              "      <td>...</td>\n",
              "      <td>...</td>\n",
              "      <td>...</td>\n",
              "      <td>...</td>\n",
              "      <td>...</td>\n",
              "      <td>...</td>\n",
              "      <td>...</td>\n",
              "      <td>...</td>\n",
              "    </tr>\n",
              "    <tr>\n",
              "      <th>d78d38ff59e9b02faf446d245bd50727</th>\n",
              "      <td>googletag.cmd.push(function() {       ...</td>\n",
              "      <td>Visita museos virtuales en el mundo: Museo de ...</td>\n",
              "      <td>http://www.unionpuebla.mx/articulo/2020/04/01/...</td>\n",
              "      <td>eluniversal</td>\n",
              "      <td>www.unionpuebla.mx</td>\n",
              "      <td>7</td>\n",
              "      <td>295</td>\n",
              "      <td>eluniversal</td>\n",
              "    </tr>\n",
              "    <tr>\n",
              "      <th>04fab2861b816ec8b03ecd3ee56b8507</th>\n",
              "      <td>Un policía preventivo resultó herido durante u...</td>\n",
              "      <td>asaltante de automovilistas termina muerto tra...</td>\n",
              "      <td>https://www.elgrafico.mx/la-roja/asaltante-de-...</td>\n",
              "      <td>eluniversal</td>\n",
              "      <td>www.elgrafico.mx</td>\n",
              "      <td>9</td>\n",
              "      <td>79</td>\n",
              "      <td>eluniversal</td>\n",
              "    </tr>\n",
              "    <tr>\n",
              "      <th>52adf651f36c8097f61f7f7447414d86</th>\n",
              "      <td>A un año de su nacimiento, el Cobro Digital ...</td>\n",
              "      <td>CoDi, un aliado para Susana Distancia</td>\n",
              "      <td>http://www.eluniversal.com.mx/cartera/codi-un-...</td>\n",
              "      <td>eluniversal</td>\n",
              "      <td>www.eluniversal.com.mx</td>\n",
              "      <td>4</td>\n",
              "      <td>405</td>\n",
              "      <td>eluniversal</td>\n",
              "    </tr>\n",
              "    <tr>\n",
              "      <th>13621446953806ad23a85c384daf30e6</th>\n",
              "      <td>Durante la contigencia por el Covid-19 es pos...</td>\n",
              "      <td>Una forma de activar la mente desde casa</td>\n",
              "      <td>https://www.eluniversalqueretaro.mx/portada/un...</td>\n",
              "      <td>eluniversal</td>\n",
              "      <td>www.eluniversalqueretaro.mx</td>\n",
              "      <td>4</td>\n",
              "      <td>299</td>\n",
              "      <td>eluniversal</td>\n",
              "    </tr>\n",
              "    <tr>\n",
              "      <th>d73767119a3af98d5c879e046f1ad339</th>\n",
              "      <td>0 % PULSO SOCIAL0 Cuando Iron Man (2008) se e...</td>\n",
              "      <td>10 datos que no sabias de la relacion entre ir...</td>\n",
              "      <td>https://de10.com.mx/top-10/10-datos-que-no-sab...</td>\n",
              "      <td>eluniversal</td>\n",
              "      <td>de10.com.mx</td>\n",
              "      <td>8</td>\n",
              "      <td>355</td>\n",
              "      <td>eluniversal</td>\n",
              "    </tr>\n",
              "  </tbody>\n",
              "</table>\n",
              "<p>126 rows × 8 columns</p>\n",
              "</div>"
            ],
            "text/plain": [
              "                                                                               body  ... newspaper_uid\n",
              "uid                                                                                  ...              \n",
              "69f7915cdb319f4dc60aecc778e28106    Al cierre de diciembre pasado, hace casi 100...  ...   eluniversal\n",
              "5cadddd572cf0374bbb67a5819bed5d5   El gobernador de Nueva York, Andrew Cuomo, a ...  ...   eluniversal\n",
              "647ea4ebb9daf0dab913017bb9321121   Después de varias gestiones con autoridades d...  ...   eluniversal\n",
              "0cb80d55564f64b8270733bf688708e2    El reacomodo de fuerzas que supone la entrad...  ...   eluniversal\n",
              "4aba980bf64de2d94347b1a725df91bd   Todas las plazas comerciales y cerca de 80% d...  ...   eluniversal\n",
              "...                                                                             ...  ...           ...\n",
              "d78d38ff59e9b02faf446d245bd50727          googletag.cmd.push(function() {       ...  ...   eluniversal\n",
              "04fab2861b816ec8b03ecd3ee56b8507  Un policía preventivo resultó herido durante u...  ...   eluniversal\n",
              "52adf651f36c8097f61f7f7447414d86    A un año de su nacimiento, el Cobro Digital ...  ...   eluniversal\n",
              "13621446953806ad23a85c384daf30e6   Durante la contigencia por el Covid-19 es pos...  ...   eluniversal\n",
              "d73767119a3af98d5c879e046f1ad339   0 % PULSO SOCIAL0 Cuando Iron Man (2008) se e...  ...   eluniversal\n",
              "\n",
              "[126 rows x 8 columns]"
            ]
          },
          "metadata": {
            "tags": []
          },
          "execution_count": 29
        }
      ]
    },
    {
      "cell_type": "markdown",
      "metadata": {
        "id": "Cf1C2aSbmkiC",
        "colab_type": "text"
      },
      "source": [
        "# Descriptive Analysis"
      ]
    },
    {
      "cell_type": "code",
      "metadata": {
        "id": "hJMm2kUbcgYX",
        "colab_type": "code",
        "colab": {}
      },
      "source": [
        "clean_eluniversal = pd.read_csv('/content/clean_eluniversal_2020_04_05_articles.csv')"
      ],
      "execution_count": 0,
      "outputs": []
    },
    {
      "cell_type": "code",
      "metadata": {
        "id": "iufqqdMqmsDl",
        "colab_type": "code",
        "outputId": "4c6d4dbd-a336-4896-de1d-e247098c3067",
        "colab": {
          "base_uri": "https://localhost:8080/",
          "height": 297
        }
      },
      "source": [
        "clean_eluniversal.describe()"
      ],
      "execution_count": 31,
      "outputs": [
        {
          "output_type": "execute_result",
          "data": {
            "text/html": [
              "<div>\n",
              "<style scoped>\n",
              "    .dataframe tbody tr th:only-of-type {\n",
              "        vertical-align: middle;\n",
              "    }\n",
              "\n",
              "    .dataframe tbody tr th {\n",
              "        vertical-align: top;\n",
              "    }\n",
              "\n",
              "    .dataframe thead th {\n",
              "        text-align: right;\n",
              "    }\n",
              "</style>\n",
              "<table border=\"1\" class=\"dataframe\">\n",
              "  <thead>\n",
              "    <tr style=\"text-align: right;\">\n",
              "      <th></th>\n",
              "      <th>n_tokens_title</th>\n",
              "      <th>n_tokens_body</th>\n",
              "    </tr>\n",
              "  </thead>\n",
              "  <tbody>\n",
              "    <tr>\n",
              "      <th>count</th>\n",
              "      <td>126.000000</td>\n",
              "      <td>126.000000</td>\n",
              "    </tr>\n",
              "    <tr>\n",
              "      <th>mean</th>\n",
              "      <td>5.841270</td>\n",
              "      <td>315.841270</td>\n",
              "    </tr>\n",
              "    <tr>\n",
              "      <th>std</th>\n",
              "      <td>2.025488</td>\n",
              "      <td>240.732861</td>\n",
              "    </tr>\n",
              "    <tr>\n",
              "      <th>min</th>\n",
              "      <td>1.000000</td>\n",
              "      <td>9.000000</td>\n",
              "    </tr>\n",
              "    <tr>\n",
              "      <th>25%</th>\n",
              "      <td>4.250000</td>\n",
              "      <td>165.500000</td>\n",
              "    </tr>\n",
              "    <tr>\n",
              "      <th>50%</th>\n",
              "      <td>6.000000</td>\n",
              "      <td>243.000000</td>\n",
              "    </tr>\n",
              "    <tr>\n",
              "      <th>75%</th>\n",
              "      <td>7.000000</td>\n",
              "      <td>356.500000</td>\n",
              "    </tr>\n",
              "    <tr>\n",
              "      <th>max</th>\n",
              "      <td>10.000000</td>\n",
              "      <td>1421.000000</td>\n",
              "    </tr>\n",
              "  </tbody>\n",
              "</table>\n",
              "</div>"
            ],
            "text/plain": [
              "       n_tokens_title  n_tokens_body\n",
              "count      126.000000     126.000000\n",
              "mean         5.841270     315.841270\n",
              "std          2.025488     240.732861\n",
              "min          1.000000       9.000000\n",
              "25%          4.250000     165.500000\n",
              "50%          6.000000     243.000000\n",
              "75%          7.000000     356.500000\n",
              "max         10.000000    1421.000000"
            ]
          },
          "metadata": {
            "tags": []
          },
          "execution_count": 31
        }
      ]
    },
    {
      "cell_type": "code",
      "metadata": {
        "id": "L6bI9f50nLu6",
        "colab_type": "code",
        "outputId": "0929ab60-2d1b-4703-8971-82c56518fa07",
        "colab": {
          "base_uri": "https://localhost:8080/",
          "height": 282
        }
      },
      "source": [
        "clean_eluniversal['n_tokens_title'].plot(style = 'k.')\n"
      ],
      "execution_count": 32,
      "outputs": [
        {
          "output_type": "execute_result",
          "data": {
            "text/plain": [
              "<matplotlib.axes._subplots.AxesSubplot at 0x7f1ca109f940>"
            ]
          },
          "metadata": {
            "tags": []
          },
          "execution_count": 32
        },
        {
          "output_type": "display_data",
          "data": {
            "image/png": "[encoded data removed]",
            "text/plain": [
              "<Figure size 432x288 with 1 Axes>"
            ]
          },
          "metadata": {
            "tags": [],
            "needs_background": "light"
          }
        }
      ]
    },
    {
      "cell_type": "code",
      "metadata": {
        "id": "JL8-8aPpnzLM",
        "colab_type": "code",
        "outputId": "70230a47-c3a9-45b8-b4ab-21423f91eadc",
        "colab": {
          "base_uri": "https://localhost:8080/",
          "height": 282
        }
      },
      "source": [
        "clean_eluniversal['n_tokens_body'].plot(style = 'k.')"
      ],
      "execution_count": 33,
      "outputs": [
        {
          "output_type": "execute_result",
          "data": {
            "text/plain": [
              "<matplotlib.axes._subplots.AxesSubplot at 0x7f1ca0f55d68>"
            ]
          },
          "metadata": {
            "tags": []
          },
          "execution_count": 33
        },
        {
          "output_type": "display_data",
          "data": {
            "image/png": "[encoded data removed]",
            "text/plain": [
              "<Figure size 432x288 with 1 Axes>"
            ]
          },
          "metadata": {
            "tags": [],
            "needs_background": "light"
          }
        }
      ]
    },
    {
      "cell_type": "code",
      "metadata": {
        "id": "VqACCIxlom_D",
        "colab_type": "code",
        "outputId": "970b2e79-d3d7-4f17-a60f-a110d5582723",
        "colab": {
          "base_uri": "https://localhost:8080/",
          "height": 332
        }
      },
      "source": [
        "clean_eluniversal.hist()"
      ],
      "execution_count": 34,
      "outputs": [
        {
          "output_type": "execute_result",
          "data": {
            "text/plain": [
              "array([[<matplotlib.axes._subplots.AxesSubplot object at 0x7f1ca0fa9860>,\n",
              "        <matplotlib.axes._subplots.AxesSubplot object at 0x7f1ca1248240>]],\n",
              "      dtype=object)"
            ]
          },
          "metadata": {
            "tags": []
          },
          "execution_count": 34
        },
        {
          "output_type": "display_data",
          "data": {
            "image/png": "[encoded data removed]",
            "text/plain": [
              "<Figure size 432x288 with 2 Axes>"
            ]
          },
          "metadata": {
            "tags": [],
            "needs_background": "light"
          }
        }
      ]
    },
    {
      "cell_type": "code",
      "metadata": {
        "id": "G4eFIcYmo0Gr",
        "colab_type": "code",
        "colab": {}
      },
      "source": [
        ""
      ],
      "execution_count": 0,
      "outputs": []
    }
  ]
}